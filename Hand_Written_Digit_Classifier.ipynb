{
 "cells": [
  {
   "cell_type": "code",
   "execution_count": 67,
   "id": "01bb070e-79c1-4d7e-b9a4-34e20c2dbf9c",
   "metadata": {},
   "outputs": [],
   "source": [
    "import tensorflow as tf\n",
    "import matplotlib.pyplot as plt \n",
    "from tensorflow.keras.layers import Dense\n",
    "import numpy as np"
   ]
  },
  {
   "cell_type": "code",
   "execution_count": 75,
   "id": "f0b1564b-9fec-43c6-b44e-8f170b8d2ebb",
   "metadata": {},
   "outputs": [
    {
     "name": "stdout",
     "output_type": "stream",
     "text": [
      "(10000, 28, 28)\n"
     ]
    },
    {
     "data": {
      "image/png": "[encoded data removed]",
      "text/plain": [
       "<Figure size 640x480 with 1 Axes>"
      ]
     },
     "metadata": {},
     "output_type": "display_data"
    },
    {
     "name": "stdout",
     "output_type": "stream",
     "text": [
      "Epoch 1/5\n",
      "\u001b[1m1875/1875\u001b[0m \u001b[32m━━━━━━━━━━━━━━━━━━━━\u001b[0m\u001b[37m\u001b[0m \u001b[1m4s\u001b[0m 2ms/step - accuracy: 0.8671 - loss: 0.4748\n",
      "Epoch 2/5\n",
      "\u001b[1m1875/1875\u001b[0m \u001b[32m━━━━━━━━━━━━━━━━━━━━\u001b[0m\u001b[37m\u001b[0m \u001b[1m3s\u001b[0m 2ms/step - accuracy: 0.9641 - loss: 0.1144\n",
      "Epoch 3/5\n",
      "\u001b[1m1875/1875\u001b[0m \u001b[32m━━━━━━━━━━━━━━━━━━━━\u001b[0m\u001b[37m\u001b[0m \u001b[1m3s\u001b[0m 2ms/step - accuracy: 0.9762 - loss: 0.0744\n",
      "Epoch 4/5\n",
      "\u001b[1m1875/1875\u001b[0m \u001b[32m━━━━━━━━━━━━━━━━━━━━\u001b[0m\u001b[37m\u001b[0m \u001b[1m3s\u001b[0m 2ms/step - accuracy: 0.9834 - loss: 0.0535\n",
      "Epoch 5/5\n",
      "\u001b[1m1875/1875\u001b[0m \u001b[32m━━━━━━━━━━━━━━━━━━━━\u001b[0m\u001b[37m\u001b[0m \u001b[1m3s\u001b[0m 2ms/step - accuracy: 0.9877 - loss: 0.0381\n"
     ]
    },
    {
     "data": {
      "text/plain": [
       "<keras.src.callbacks.history.History at 0x7b65ba42f690>"
      ]
     },
     "execution_count": 75,
     "metadata": {},
     "output_type": "execute_result"
    }
   ],
   "source": [
    "# Loading the data  -> Already loaded data \n",
    "\n",
    "mnist = tf.keras.datasets.mnist \n",
    "(x_train,y_train) , (x_test,y_test) = mnist.load_data() # loads a 28 x 28 images of handwritten digits 0-9 \n",
    "\n",
    "print(x_test.shape)\n",
    "# Normalizing the data \n",
    "\n",
    "# print(x_train[0])\n",
    "# print(x_train[0].shape)\n",
    "x_train =  tf.keras.utils.normalize(x_train , axis = 1)\n",
    "x_test =  tf.keras.utils.normalize(x_test , axis = 1)\n",
    "# print(x_train[0])\n",
    "\n",
    "\n",
    "# x_train.ndim\n",
    "# Plotting the input data -> in bw format\n",
    "plt.imshow(x_train[1],cmap = plt.cm.binary) # cmap = colour mapping \n",
    "plt.show()\n",
    "\n",
    "\n",
    "model = tf.keras.models.Sequential()\n",
    "\n",
    "model.add(tf.keras.layers.Flatten()) # transforms 28 x 28 array into a one-dimensional array -> do it before adding the dense layer \n",
    "\n",
    "model.add(Dense(128 , activation = \"relu\"))\n",
    "model.add(Dense(128 , activation = \"relu\"))\n",
    "\n",
    "# we need prob -> so use softmax  -> we use linear to get better accuracy and change to softmax later \n",
    "model.add(Dense(10 , activation = \"linear\")) # output layer -> units = no of classification \n",
    "\n",
    "\n",
    "\n",
    "model.compile(\n",
    "    loss=tf.keras.losses.SparseCategoricalCrossentropy(from_logits=True),  #<-- Note\n",
    "    optimizer=tf.keras.optimizers.Adam(0.001),metrics =[\"accuracy\"], # Metric is what we want to measure \n",
    ")\n",
    "\n",
    "\n",
    "model.fit(x_train, y_train,epochs= 5)\n",
    "\n"
   ]
  },
  {
   "cell_type": "code",
   "execution_count": 63,
   "id": "3f1ac79e-be9b-4954-b6dc-9178075979a2",
   "metadata": {},
   "outputs": [
    {
     "name": "stdout",
     "output_type": "stream",
     "text": [
      "\u001b[1m1875/1875\u001b[0m \u001b[32m━━━━━━━━━━━━━━━━━━━━\u001b[0m\u001b[37m\u001b[0m \u001b[1m2s\u001b[0m 847us/step\n",
      "[[-14.251715    -0.02545547  -2.9760213  ...  -6.4204593   -9.837824\n",
      "   -3.3983088 ]\n",
      " [ 12.631105    -1.637262    -1.1689365  ...  -6.8129497   -6.6213694\n",
      "   -1.2831372 ]\n",
      " [-14.07561      0.1634269    0.72461766 ...  -0.5319532   -6.3677635\n",
      "   -7.048053  ]\n",
      " ...\n",
      " [-12.470342    -7.6866646   -9.51876    ... -11.822789     0.46398073\n",
      "   -3.0481954 ]\n",
      " [ -1.0042549   -2.6627665   -4.9252214  ...  -6.140846    -1.9163532\n",
      "   -8.168448  ]\n",
      " [ -4.2921824   -7.6824956   -5.38745    ...  -5.6370063    9.921378\n",
      "   -2.886816  ]]\n",
      "(60000, 10)\n"
     ]
    }
   ],
   "source": [
    "\n",
    "z_values = model.predict(x_train)\n",
    "print(z_values)\n",
    "print(z_values.shape)\n",
    "# op is z here and not prob because we are using linear and not softmax -> so pass through softmax \n"
   ]
  },
  {
   "cell_type": "code",
   "execution_count": 69,
   "id": "82c86150-b020-4990-a518-dceac2ecd12a",
   "metadata": {},
   "outputs": [
    {
     "name": "stdout",
     "output_type": "stream",
     "text": [
      "(60000, 10)\n",
      "[3.5576482e-14 5.3647423e-08 2.8063039e-09 1.3029249e-03 4.1261767e-16\n",
      " 9.9869710e-01 5.4449671e-15 8.9584701e-11 2.9382681e-12 1.8396608e-09]\n"
     ]
    }
   ],
   "source": [
    "# Converting into probability\n",
    "prob_values = tf.nn.softmax(z_values).numpy() # to just get rid of tf.Tensor while printing \n",
    "\n",
    "print(prob_values.shape)\n",
    "print(prob_values[0])\n"
   ]
  },
  {
   "cell_type": "code",
   "execution_count": 94,
   "id": "b96df001-60ad-44ac-8ee5-a9bdf053d789",
   "metadata": {},
   "outputs": [
    {
     "name": "stdout",
     "output_type": "stream",
     "text": [
      "\u001b[1m313/313\u001b[0m \u001b[32m━━━━━━━━━━━━━━━━━━━━\u001b[0m\u001b[37m\u001b[0m \u001b[1m0s\u001b[0m 904us/step - accuracy: 0.9678 - loss: 0.1065\n",
      "Accuracy is 97.28999733924866%\n",
      "Loss is 0.089718759059906\n"
     ]
    }
   ],
   "source": [
    "# Evaluating the model \n",
    "\n",
    "val_loss , val_acc = model.evaluate(x_test,y_test)\n",
    "print(f\"Accuracy is {val_acc*100}%\")\n",
    "print(f\"Loss is {val_loss}\")"
   ]
  },
  {
   "cell_type": "code",
   "execution_count": 95,
   "id": "d1eeac9f-b8d8-4fc0-adbc-5e9abb5d99fb",
   "metadata": {},
   "outputs": [
    {
     "name": "stdout",
     "output_type": "stream",
     "text": [
      "\u001b[1m313/313\u001b[0m \u001b[32m━━━━━━━━━━━━━━━━━━━━\u001b[0m\u001b[37m\u001b[0m \u001b[1m0s\u001b[0m 780us/step\n"
     ]
    }
   ],
   "source": [
    "# For the test data\n",
    "\n",
    "y_predicted = np.zeros(10000, dtype=np.int64)\n",
    "\n",
    "p_test = model.predict(x_test)\n",
    "prob_test = tf.nn.softmax(p_test).numpy() #  since we used a linear in the output layer \n",
    "\n",
    "# print(prob_test)\n",
    "# print(prob_test.shape)\n",
    "\n",
    "for i in range(10000) :\n",
    "    # print(np.argmax(prob_test[i]))\n",
    "    y_predicted[i] = np.argmax(prob_test[i])\n"
   ]
  },
  {
   "cell_type": "code",
   "execution_count": 96,
   "id": "3809d33e-640a-491e-867d-8a3106826e97",
   "metadata": {},
   "outputs": [
    {
     "name": "stdout",
     "output_type": "stream",
     "text": [
      "Accuracy: 97.28999999999999 %\n"
     ]
    }
   ],
   "source": [
    "# Comparing y_train and y_predicted \n",
    "\n",
    "# Same as model - evaluate \n",
    "correct_predictions = 0\n",
    "total_predictions = len(y_test)\n",
    "\n",
    "for i in range(total_predictions):\n",
    "    if (y_predicted[i] == y_test[i]):\n",
    "        correct_predictions += 1\n",
    "\n",
    "accuracy = correct_predictions / total_predictions * 100\n",
    "\n",
    "print(\"Accuracy:\", accuracy, \"%\")\n",
    "\n"
   ]
  },
  {
   "cell_type": "code",
   "execution_count": 97,
   "id": "4b2d7e68-9d3e-4cf3-bc86-3209291aca3f",
   "metadata": {},
   "outputs": [
    {
     "data": {
      "image/png": "[encoded data removed]",
      "text/plain": [
       "<Figure size 640x480 with 1 Axes>"
      ]
     },
     "metadata": {},
     "output_type": "display_data"
    },
    {
     "name": "stdout",
     "output_type": "stream",
     "text": [
      "Prediction made is 7\n"
     ]
    }
   ],
   "source": [
    "# Printing the first x_test \n",
    "\n",
    "plt.imshow(x_test[0],cmap = plt.cm.binary)\n",
    "plt.show()\n",
    "\n",
    "print(f\"Prediction made is {y_predicted[0]}\")"
   ]
  },
  {
   "cell_type": "code",
   "execution_count": null,
   "id": "6e75fe23-5a0d-4ba4-99b3-0ef20b65f071",
   "metadata": {},
   "outputs": [],
   "source": []
  }
 ],
 "metadata": {
  "kernelspec": {
   "display_name": "Python 3 (ipykernel)",
   "language": "python",
   "name": "python3"
  },
  "language_info": {
   "codemirror_mode": {
    "name": "ipython",
    "version": 3
   },
   "file_extension": ".py",
   "mimetype": "text/x-python",
   "name": "python",
   "nbconvert_exporter": "python",
   "pygments_lexer": "ipython3",
   "version": "3.11.7"
  }
 },
 "nbformat": 4,
 "nbformat_minor": 5
}
